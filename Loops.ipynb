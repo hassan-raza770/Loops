{
 "cells": [
  {
   "cell_type": "markdown",
   "id": "a02c1578",
   "metadata": {},
   "source": [
    "# Range"
   ]
  },
  {
   "cell_type": "code",
   "execution_count": 1,
   "id": "8891c76a",
   "metadata": {},
   "outputs": [
    {
     "name": "stdout",
     "output_type": "stream",
     "text": [
      "range(0, 10)\n",
      "[0, 1, 2, 3, 4, 5, 6, 7, 8, 9]\n",
      "[12, 13, 14, 15, 16, 17, 18, 19]\n",
      "(0, 1, 2, 3, 4, 5, 6, 7, 8, 9)\n",
      "[2, 4, 6, 8, 10, 12, 14, 16, 18, 20]\n"
     ]
    }
   ],
   "source": [
    "print(range(10))\n",
    "print(list(range(10)))\n",
    "print(list(range(12,20)))\n",
    "print(tuple(range(10)))\n",
    "print(list(range(2,22,2)))"
   ]
  },
  {
   "cell_type": "markdown",
   "id": "529fddf9",
   "metadata": {},
   "source": [
    "# For Loop"
   ]
  },
  {
   "cell_type": "code",
   "execution_count": 2,
   "id": "031a4ecb",
   "metadata": {},
   "outputs": [
    {
     "name": "stdout",
     "output_type": "stream",
     "text": [
      "the sum is :  98\n"
     ]
    }
   ],
   "source": [
    "# Program to find the sum of alll numbers in the list\n",
    "lst=[3,12,5,30,21,8,19]\n",
    "sum=0\n",
    "for element in lst:\n",
    "    sum = sum + element\n",
    "    \n",
    "print(\"the sum is : \",sum)\n",
    "\n",
    "## totalling: total = total +value\n",
    "## counter: counts= count +1\n",
    "    "
   ]
  },
  {
   "cell_type": "code",
   "execution_count": 8,
   "id": "046e26e1",
   "metadata": {},
   "outputs": [
    {
     "name": "stdout",
     "output_type": "stream",
     "text": [
      "1275\n"
     ]
    }
   ],
   "source": [
    "lu=(list(range(1,51)))\n",
    "sum=0\n",
    "for element in lu:\n",
    "    sum = sum + element\n",
    "print(sum)"
   ]
  },
  {
   "cell_type": "code",
   "execution_count": 10,
   "id": "050f95de",
   "metadata": {},
   "outputs": [
    {
     "name": "stdout",
     "output_type": "stream",
     "text": [
      "my student name is:  Ali\n",
      "my student name is:  Sara\n",
      "my student name is:  Mehak\n",
      "my student name is:  Hassan\n"
     ]
    }
   ],
   "source": [
    "#program to ierate through a list indexing\n",
    "std_names= ['Ali', 'Sara', 'Mehak', 'Hassan']\n",
    "#print(len(std_ames))\n",
    "for i in range(len(std_names)):\n",
    "    print(\"my student name is: \", std_names[i])"
   ]
  },
  {
   "cell_type": "code",
   "execution_count": 14,
   "id": "047edfe2",
   "metadata": {},
   "outputs": [
    {
     "name": "stdout",
     "output_type": "stream",
     "text": [
      "Enter student name: Ali\n",
      "87\n"
     ]
    }
   ],
   "source": [
    "std_name=input(\"Enter student name: \")\n",
    "marks={'Hassan': 90,\n",
    "      'Ali':87,\n",
    "      'Sara': 85,\n",
    "       'Mehek':80}\n",
    "for std in marks:\n",
    "    if std == std_name:\n",
    "        print(marks[std])\n",
    "        break\n",
    "\n",
    "else:\n",
    "    print(\"no entry found with this name\")"
   ]
  },
  {
   "cell_type": "code",
   "execution_count": null,
   "id": "899c2dd1",
   "metadata": {},
   "outputs": [],
   "source": []
  }
 ],
 "metadata": {
  "kernelspec": {
   "display_name": "Python 3 (ipykernel)",
   "language": "python",
   "name": "python3"
  },
  "language_info": {
   "codemirror_mode": {
    "name": "ipython",
    "version": 3
   },
   "file_extension": ".py",
   "mimetype": "text/x-python",
   "name": "python",
   "nbconvert_exporter": "python",
   "pygments_lexer": "ipython3",
   "version": "3.8.9"
  }
 },
 "nbformat": 4,
 "nbformat_minor": 5
}
